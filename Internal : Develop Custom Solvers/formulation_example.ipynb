{
 "cells": [
  {
   "cell_type": "markdown",
   "metadata": {
    "jp-MarkdownHeadingCollapsed": true
   },
   "source": [
    "## Problem Statement"
   ]
  },
  {
   "cell_type": "markdown",
   "metadata": {},
   "source": [
    "A company produces two products, Product A and Product B, each with the following characteristics:\n",
    "\n",
    "**Profit per unit:**\n",
    "- Product A: $40\n",
    "- Product B: $25\n",
    "\n",
    "**Resource consumption:**\n",
    "- Each unit of Product A requires 2 hours of labor and 3 units of material.\n",
    "- Each unit of Product B requires 1 hour of labor and 2 unit of material.\n",
    "\n",
    "**Labor hours available: 100 hours**\n",
    "- The company has limited resources:\n",
    "- Material units available: 90 units\n",
    "\n",
    "**Task:**\n",
    "- Find the optimal number of units of Product A and Product B to produce in order to maximize profit, assuming fractional production is allowed.\n",
    "- Update the model to ensure that the production quantities are integers, as partial production is not practical.\n"
   ]
  },
  {
   "cell_type": "markdown",
   "metadata": {
    "jp-MarkdownHeadingCollapsed": true
   },
   "source": [
    "## Formulation"
   ]
  },
  {
   "cell_type": "markdown",
   "metadata": {},
   "source": [
    "- **Sets:** Set of products $P = \\{A, B\\}$.\n",
    "- **Decision Variables:** Let $x_i$ be the number of units of product $i$ to produce, for all $i \\in P$.\n",
    "- **Objective:** Maximize $Z = 40x_A + 30x_B$.\n",
    "- **Subject to:**\n",
    "  - **Available Labor Hours**: $3x_A + 2.5x_B \\leq 120$\n",
    "  - **Available Material Units**: $3x_A + 1x_B \\leq 100$\n",
    "  - **Non-Negativity**: $x_A, x_B \\geq 0$\n",
    "- To ensure practical production, we add integer constraints to the decision variables:\n",
    "  - **Integral Constraints**: $x_i \\in \\mathbb{Z}^+$, for all $i \\in P$ such that $x_A, x_B \\in \\{0, 1, 2, \\ldots\\}$\n"
   ]
  },
  {
   "cell_type": "code",
   "execution_count": 1,
   "metadata": {},
   "outputs": [],
   "source": [
    "from solvers import OptimizationProblem"
   ]
  },
  {
   "cell_type": "markdown",
   "metadata": {},
   "source": [
    "## Define Optimization Problem"
   ]
  },
  {
   "cell_type": "code",
   "execution_count": 2,
   "metadata": {},
   "outputs": [],
   "source": [
    "linear_problem = OptimizationProblem(\n",
    "    objective_coeffs=[40, 30],  # Maximize 40x_A + 30x_B\n",
    "    constraint_matrix=[\n",
    "        [3, 2.5],  # Labor constraint: 3x_A + 2.5x_B <= 120\n",
    "        [3, 1]   # Material constraint: 3x_A + x_B <= 100\n",
    "    ],\n",
    "    constraint_bounds=[120, 100],  # RHS of constraints\n",
    "    variable_bounds=[(0, None), (0, None)]  # Non-negative variables\n",
    ")"
   ]
  },
  {
   "cell_type": "code",
   "execution_count": 2,
   "metadata": {},
   "outputs": [],
   "source": [
    "linear_problem = OptimizationProblem(\n",
    "    objective_coeffs=[5, 6],\n",
    "    constraint_matrix=[\n",
    "        [1, 1],\n",
    "        [4, 7]\n",
    "    ],\n",
    "    constraint_bounds=[5, 28],\n",
    "    variable_bounds=[(0, None), (0, None)]\n",
    ")"
   ]
  },
  {
   "cell_type": "code",
   "execution_count": 3,
   "metadata": {},
   "outputs": [
    {
     "data": {
      "text/plain": [
       "OptimizationProblem(objective_coeffs=[5, 6],\n",
       "constraint_matrix=[[1, 1], [4, 7]],\n",
       "constraint_bounds=[5, 28],\n",
       "variable_bounds=[(0, None), (0, None)],\n",
       "variable_types=['continuous', 'continuous'])"
      ]
     },
     "execution_count": 3,
     "metadata": {},
     "output_type": "execute_result"
    }
   ],
   "source": [
    "linear_problem"
   ]
  },
  {
   "cell_type": "code",
   "execution_count": 4,
   "metadata": {},
   "outputs": [
    {
     "data": {
      "text/plain": [
       "False"
      ]
     },
     "execution_count": 4,
     "metadata": {},
     "output_type": "execute_result"
    }
   ],
   "source": [
    "linear_problem.is_mip()"
   ]
  },
  {
   "cell_type": "code",
   "execution_count": 5,
   "metadata": {},
   "outputs": [],
   "source": [
    "oc = linear_problem.objective_coeffs\n",
    "cm = linear_problem.constraint_matrix\n",
    "cb = linear_problem.constraint_bounds\n",
    "vb = linear_problem.variable_bounds\n",
    "vt = linear_problem.variable_types"
   ]
  }
 ],
 "metadata": {
  "kernelspec": {
   "display_name": ".venv",
   "language": "python",
   "name": "python3"
  },
  "language_info": {
   "codemirror_mode": {
    "name": "ipython",
    "version": 3
   },
   "file_extension": ".py",
   "mimetype": "text/x-python",
   "name": "python",
   "nbconvert_exporter": "python",
   "pygments_lexer": "ipython3",
   "version": "3.12.7"
  }
 },
 "nbformat": 4,
 "nbformat_minor": 4
}
