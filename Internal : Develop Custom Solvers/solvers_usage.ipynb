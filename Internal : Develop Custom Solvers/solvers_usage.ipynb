{
 "cells": [
  {
   "cell_type": "code",
   "execution_count": 1,
   "metadata": {},
   "outputs": [],
   "source": [
    "from solvers import OptimizationProblem, solve_lp_function, LinearSolver, IntegerSolver, Solver, OPTIMIZATION_PROBLEMS"
   ]
  },
  {
   "cell_type": "markdown",
   "metadata": {},
   "source": [
    "## Definition through `OptimizationProblem`"
   ]
  },
  {
   "cell_type": "code",
   "execution_count": 2,
   "metadata": {},
   "outputs": [
    {
     "data": {
      "text/plain": [
       "[{'name': 'Problem 0',\n",
       "  'url': 'https://www.youtube.com/watch?v=upcsrgqdeNQ',\n",
       "  'object': OptimizationProblem(objective_coeffs=[5, 6],\n",
       "  constraint_matrix=[[1, 1], [4, 7]],\n",
       "  constraint_bounds=[5, 28],\n",
       "  variable_bounds=[(0, None), (0, None)],\n",
       "  objective_direction=max,\n",
       "  variable_types=['continuous', 'continuous']),\n",
       "  'z': 27.0,\n",
       "  'solution': [3.0, 2.0]},\n",
       " {'name': 'Problem 1',\n",
       "  'url': 'https://www.youtube.com/watch?v=BzKUhT20wDc',\n",
       "  'object': OptimizationProblem(objective_coeffs=[5, 4],\n",
       "  constraint_matrix=[[1, 1], [10, 6]],\n",
       "  constraint_bounds=[5, 45],\n",
       "  variable_bounds=[(0, None), (0, None)],\n",
       "  objective_direction=max,\n",
       "  variable_types=['continuous', 'continuous']),\n",
       "  'z': 23.0,\n",
       "  'solution': [3.0, 2.0]},\n",
       " {'name': 'Problem 2',\n",
       "  'url': 'https://www.youtube.com/watch?v=BzKUhT20wDc',\n",
       "  'object': OptimizationProblem(objective_coeffs=[5, 4],\n",
       "  constraint_matrix=[[-3, -2], [-2, -3]],\n",
       "  constraint_bounds=[-5, -7],\n",
       "  variable_bounds=[(0, None), (0, None)],\n",
       "  objective_direction=min,\n",
       "  variable_types=['continuous', 'continuous']),\n",
       "  'z': 12.0,\n",
       "  'solution': [0.0, 3.0]},\n",
       " {'name': 'Problem 3',\n",
       "  'url': 'https://pub.towardsai.net/branch-and-bound-introduction-prior-to-coding-the-algorithm-from-scratch-cc265f2909e7',\n",
       "  'object': OptimizationProblem(objective_coeffs=[1, 1],\n",
       "  constraint_matrix=[[-1, 1], [8, 2]],\n",
       "  constraint_bounds=[2, 19],\n",
       "  variable_bounds=[(0, None), (0, None)],\n",
       "  objective_direction=max,\n",
       "  variable_types=['continuous', 'continuous']),\n",
       "  'z': 4.0,\n",
       "  'solution': [1.0, 3.0]},\n",
       " {'name': 'Problem 4',\n",
       "  'url': 'https://medium.com/walmartglobaltech/understanding-branch-and-bound-in-optimization-problems-d8117da0e2c5',\n",
       "  'object': OptimizationProblem(objective_coeffs=[5, 8],\n",
       "  constraint_matrix=[[1, 1], [5, 9]],\n",
       "  constraint_bounds=[6, 45],\n",
       "  variable_bounds=[(0, None), (0, None)],\n",
       "  objective_direction=max,\n",
       "  variable_types=['continuous', 'continuous']),\n",
       "  'z': 40.0,\n",
       "  'solution': [0.0, 5.0]}]"
      ]
     },
     "execution_count": 2,
     "metadata": {},
     "output_type": "execute_result"
    }
   ],
   "source": [
    "OPTIMIZATION_PROBLEMS"
   ]
  },
  {
   "cell_type": "code",
   "execution_count": 3,
   "metadata": {},
   "outputs": [
    {
     "data": {
      "text/plain": [
       "OptimizationProblem(objective_coeffs=[5, 6],\n",
       "constraint_matrix=[[1, 1], [4, 7]],\n",
       "constraint_bounds=[5, 28],\n",
       "variable_bounds=[(0, None), (0, None)],\n",
       "objective_direction=max,\n",
       "variable_types=['continuous', 'continuous'])"
      ]
     },
     "execution_count": 3,
     "metadata": {},
     "output_type": "execute_result"
    }
   ],
   "source": [
    "problem_info = OPTIMIZATION_PROBLEMS[0]\n",
    "problem = problem_info['object']\n",
    "problem"
   ]
  },
  {
   "cell_type": "markdown",
   "metadata": {},
   "source": [
    "## Use the `solve_lp_function` function"
   ]
  },
  {
   "cell_type": "code",
   "execution_count": 4,
   "metadata": {},
   "outputs": [],
   "source": [
    "oc = problem.objective_coeffs\n",
    "cm = problem.constraint_matrix\n",
    "cb = problem.constraint_bounds\n",
    "vb = problem.variable_bounds\n",
    "od = problem.objective_direction\n",
    "vt = problem.variable_types"
   ]
  },
  {
   "cell_type": "code",
   "execution_count": 5,
   "metadata": {},
   "outputs": [
    {
     "name": "stdout",
     "output_type": "stream",
     "text": [
      "===========================================================================\n",
      "        message: Optimization terminated successfully. (HiGHS Status 7: Optimal)\n",
      "        success: True\n",
      "         status: 0\n",
      "            fun: -27.666666666666668\n",
      "              x: [ 2.333e+00  2.667e+00]\n",
      "            nit: 2\n",
      "          lower:  residual: [ 2.333e+00  2.667e+00]\n",
      "                 marginals: [ 0.000e+00  0.000e+00]\n",
      "          upper:  residual: [       inf        inf]\n",
      "                 marginals: [ 0.000e+00  0.000e+00]\n",
      "          eqlin:  residual: []\n",
      "                 marginals: []\n",
      "        ineqlin:  residual: [ 0.000e+00  0.000e+00]\n",
      "                 marginals: [-3.667e+00 -3.333e-01]\n",
      " mip_node_count: 0\n",
      " mip_dual_bound: 0.0\n",
      "        mip_gap: 0.0\n",
      "===========================================================================\n",
      "\n",
      "Objective value: 27.666666666666668\n",
      "Decision variables: [2.33333333 2.66666667]\n"
     ]
    }
   ],
   "source": [
    "obj, dvs = solve_lp_function(\n",
    "    objective_coeffs = oc,\n",
    "    constraint_matrix = cm,\n",
    "    constraint_bounds = cb,\n",
    "    variable_bounds = vb,\n",
    "    objective_direction = od,\n",
    "    verbose=True\n",
    "    )\n",
    "\n",
    "print(f\"Objective value: {obj}\")\n",
    "print(f\"Decision variables: {dvs}\")"
   ]
  },
  {
   "cell_type": "markdown",
   "metadata": {},
   "source": [
    "## Use the `LinearSolver` class"
   ]
  },
  {
   "cell_type": "code",
   "execution_count": 6,
   "metadata": {},
   "outputs": [],
   "source": [
    "linear_solver = LinearSolver()"
   ]
  },
  {
   "cell_type": "code",
   "execution_count": 7,
   "metadata": {},
   "outputs": [
    {
     "data": {
      "text/plain": [
       "(27.666666666666668, array([2.33333333, 2.66666667]))"
      ]
     },
     "execution_count": 7,
     "metadata": {},
     "output_type": "execute_result"
    }
   ],
   "source": [
    "linear_solver.solve(problem)"
   ]
  },
  {
   "cell_type": "code",
   "execution_count": 8,
   "metadata": {},
   "outputs": [
    {
     "data": {
      "image/png": "[encoded data removed]",
      "text/plain": [
       "<Figure size 600x400 with 1 Axes>"
      ]
     },
     "metadata": {},
     "output_type": "display_data"
    }
   ],
   "source": [
    "linear_solver.plot(problem, figsize=(6,4), scale = 0.2)"
   ]
  },
  {
   "cell_type": "markdown",
   "metadata": {},
   "source": [
    "## Use the `IntegerSolver` class"
   ]
  },
  {
   "cell_type": "code",
   "execution_count": 9,
   "metadata": {},
   "outputs": [],
   "source": [
    "integer_solver = IntegerSolver()"
   ]
  },
  {
   "cell_type": "code",
   "execution_count": 10,
   "metadata": {},
   "outputs": [
    {
     "name": "stdout",
     "output_type": "stream",
     "text": [
      "Warning: When  cdn_resources is 'local' jupyter notebook has issues displaying graphics on chrome/safari. Use cdn_resources='in_line' or cdn_resources='remote' if you have issues viewing graphics in a notebook.\n",
      "pyvis_networkx.html\n"
     ]
    },
    {
     "data": {
      "text/plain": [
       "(27.0, array([3., 2.]))"
      ]
     },
     "execution_count": 10,
     "metadata": {},
     "output_type": "execute_result"
    }
   ],
   "source": [
    "integer_solver.solve(problem)"
   ]
  }
 ],
 "metadata": {
  "kernelspec": {
   "display_name": ".venv",
   "language": "python",
   "name": "python3"
  },
  "language_info": {
   "codemirror_mode": {
    "name": "ipython",
    "version": 3
   },
   "file_extension": ".py",
   "mimetype": "text/x-python",
   "name": "python",
   "nbconvert_exporter": "python",
   "pygments_lexer": "ipython3",
   "version": "3.12.7"
  }
 },
 "nbformat": 4,
 "nbformat_minor": 4
}
