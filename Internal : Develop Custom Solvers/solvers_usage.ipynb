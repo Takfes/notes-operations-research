{
 "cells": [
  {
   "cell_type": "code",
   "execution_count": 1,
   "metadata": {},
   "outputs": [],
   "source": [
    "from solvers import OptimizationProblem, solve_lp_function, LinearSolver, IntegerSolver, Solver"
   ]
  },
  {
   "cell_type": "markdown",
   "metadata": {},
   "source": [
    "## Definition through `OptimizationProblem`"
   ]
  },
  {
   "cell_type": "code",
   "execution_count": 2,
   "metadata": {},
   "outputs": [],
   "source": [
    "problem = OptimizationProblem(\n",
    "    objective_coeffs=[40, 30],\n",
    "    constraint_matrix=[\n",
    "        [3, 2.5],\n",
    "        [3, 1]\n",
    "    ],\n",
    "    constraint_bounds=[120, 100],\n",
    "    variable_bounds=[(0, None), (0, None)],\n",
    "    objective_direction=\"max\"\n",
    ")"
   ]
  },
  {
   "cell_type": "code",
   "execution_count": 3,
   "metadata": {},
   "outputs": [],
   "source": [
    "# https://www.youtube.com/watch?v=upcsrgqdeNQ\n",
    "problem = OptimizationProblem(\n",
    "    objective_coeffs=[5, 6],\n",
    "    constraint_matrix=[\n",
    "        [1, 1],\n",
    "        [4, 7]\n",
    "    ],\n",
    "    constraint_bounds=[5, 28],\n",
    "    variable_bounds=[(0, None), (0, None)],\n",
    "    objective_direction=\"max\"\n",
    ")"
   ]
  },
  {
   "cell_type": "code",
   "execution_count": 4,
   "metadata": {},
   "outputs": [],
   "source": [
    "# https://www.youtube.com/watch?v=BzKUhT20wDc\n",
    "problem = OptimizationProblem(\n",
    "    objective_coeffs=[5, 4],\n",
    "    constraint_matrix=[\n",
    "        [1, 1],\n",
    "        [10, 6]\n",
    "    ],\n",
    "    constraint_bounds=[5, 45],\n",
    "    variable_bounds=[(0, None), (0, None)],\n",
    "    objective_direction=\"max\"\n",
    ")"
   ]
  },
  {
   "cell_type": "code",
   "execution_count": 5,
   "metadata": {},
   "outputs": [],
   "source": [
    "# https://www.youtube.com/watch?v=BzKUhT20wDc\n",
    "problem = OptimizationProblem(\n",
    "    objective_coeffs=[5, 4],\n",
    "    constraint_matrix=[\n",
    "        [-3, -2],\n",
    "        [-2, -3]\n",
    "    ],\n",
    "    constraint_bounds=[-5, -7],\n",
    "    variable_bounds=[(0, None), (0, None)],\n",
    "    objective_direction=\"min\"\n",
    ")"
   ]
  },
  {
   "cell_type": "code",
   "execution_count": 6,
   "metadata": {},
   "outputs": [],
   "source": [
    "# https://pub.towardsai.net/branch-and-bound-introduction-prior-to-coding-the-algorithm-from-scratch-cc265f2909e7\n",
    "problem = OptimizationProblem(\n",
    "    objective_coeffs=[1, 1],\n",
    "    constraint_matrix=[\n",
    "        [-1, 1],\n",
    "        [8, 2]\n",
    "    ],\n",
    "    constraint_bounds=[2, 19],\n",
    "    variable_bounds=[(0, None), (0, None)],\n",
    "    objective_direction=\"max\"\n",
    ")"
   ]
  },
  {
   "cell_type": "code",
   "execution_count": 7,
   "metadata": {},
   "outputs": [
    {
     "data": {
      "text/plain": [
       "OptimizationProblem(objective_coeffs=[1, 1],\n",
       "constraint_matrix=[[-1, 1], [8, 2]],\n",
       "constraint_bounds=[2, 19],\n",
       "variable_bounds=[(0, None), (0, None)],\n",
       "objective_direction=max,\n",
       "variable_types=['continuous', 'continuous'])"
      ]
     },
     "execution_count": 7,
     "metadata": {},
     "output_type": "execute_result"
    }
   ],
   "source": [
    "problem"
   ]
  },
  {
   "cell_type": "code",
   "execution_count": 8,
   "metadata": {},
   "outputs": [
    {
     "data": {
      "text/plain": [
       "False"
      ]
     },
     "execution_count": 8,
     "metadata": {},
     "output_type": "execute_result"
    }
   ],
   "source": [
    "problem.is_mip()"
   ]
  },
  {
   "cell_type": "markdown",
   "metadata": {},
   "source": [
    "## Use the `solve_lp_function` function"
   ]
  },
  {
   "cell_type": "code",
   "execution_count": 9,
   "metadata": {},
   "outputs": [],
   "source": [
    "oc = problem.objective_coeffs\n",
    "cm = problem.constraint_matrix\n",
    "cb = problem.constraint_bounds\n",
    "vb = problem.variable_bounds\n",
    "od = problem.objective_direction\n",
    "vt = problem.variable_types"
   ]
  },
  {
   "cell_type": "code",
   "execution_count": 10,
   "metadata": {},
   "outputs": [
    {
     "name": "stdout",
     "output_type": "stream",
     "text": [
      "===========================================================================\n",
      "        message: Optimization terminated successfully. (HiGHS Status 7: Optimal)\n",
      "        success: True\n",
      "         status: 0\n",
      "            fun: -5.0\n",
      "              x: [ 1.500e+00  3.500e+00]\n",
      "            nit: 0\n",
      "          lower:  residual: [ 1.500e+00  3.500e+00]\n",
      "                 marginals: [ 0.000e+00  0.000e+00]\n",
      "          upper:  residual: [       inf        inf]\n",
      "                 marginals: [ 0.000e+00  0.000e+00]\n",
      "          eqlin:  residual: []\n",
      "                 marginals: []\n",
      "        ineqlin:  residual: [ 0.000e+00  0.000e+00]\n",
      "                 marginals: [-6.000e-01 -2.000e-01]\n",
      " mip_node_count: 0\n",
      " mip_dual_bound: 0.0\n",
      "        mip_gap: 0.0\n",
      "===========================================================================\n",
      "\n",
      "Objective value: 5.0\n",
      "Decision variables: [1.5 3.5]\n"
     ]
    }
   ],
   "source": [
    "obj, dvs = solve_lp_function(\n",
    "    objective_coeffs = oc,\n",
    "    constraint_matrix = cm,\n",
    "    constraint_bounds = cb,\n",
    "    variable_bounds = vb,\n",
    "    objective_direction = od,\n",
    "    verbose=True\n",
    "    )\n",
    "\n",
    "print(f\"Objective value: {obj}\")\n",
    "print(f\"Decision variables: {dvs}\")"
   ]
  },
  {
   "cell_type": "markdown",
   "metadata": {},
   "source": [
    "## Use the `LinearSolver` class"
   ]
  },
  {
   "cell_type": "code",
   "execution_count": 11,
   "metadata": {},
   "outputs": [],
   "source": [
    "linear_solver = LinearSolver()"
   ]
  },
  {
   "cell_type": "code",
   "execution_count": 12,
   "metadata": {},
   "outputs": [
    {
     "data": {
      "text/plain": [
       "(5.0, array([1.5, 3.5]))"
      ]
     },
     "execution_count": 12,
     "metadata": {},
     "output_type": "execute_result"
    }
   ],
   "source": [
    "linear_solver.solve(problem)"
   ]
  },
  {
   "cell_type": "code",
   "execution_count": 23,
   "metadata": {},
   "outputs": [
    {
     "data": {
      "image/png": "[encoded data removed]",
      "text/plain": [
       "<Figure size 600x400 with 1 Axes>"
      ]
     },
     "metadata": {},
     "output_type": "display_data"
    }
   ],
   "source": [
    "linear_solver.plot(problem, figsize=(6,4), scale = 0.2)"
   ]
  },
  {
   "cell_type": "markdown",
   "metadata": {},
   "source": [
    "## Branch and Bound Manual Walkthrough"
   ]
  },
  {
   "cell_type": "code",
   "execution_count": 11,
   "metadata": {},
   "outputs": [],
   "source": [
    "# import numpy as np\n",
    "# branch_index = np.argmax([x-int(x) for x in dvs])\n",
    "# branch_value = dvs[branch_index]\n",
    "# x2u = np.floor(branch_value)\n",
    "# x2l = np.ceil(branch_value)\n",
    "# print(f'Decision variables: {dvs}')\n",
    "# print(f'Selected decision variable for branching : {branch_value}')\n",
    "# print(f'Upper bound: {x2u}')\n",
    "# print(f'Lower bound: {x2l}')"
   ]
  },
  {
   "cell_type": "code",
   "execution_count": 12,
   "metadata": {},
   "outputs": [],
   "source": [
    "# queue = [(linear_problem, 0)]"
   ]
  },
  {
   "cell_type": "code",
   "execution_count": 13,
   "metadata": {},
   "outputs": [],
   "source": [
    "# current_problem, parent_id = queue.pop(0)"
   ]
  },
  {
   "cell_type": "code",
   "execution_count": 14,
   "metadata": {},
   "outputs": [],
   "source": [
    "# obj, sol = Solver.solve_lp(current_problem, verbose=True)"
   ]
  },
  {
   "cell_type": "code",
   "execution_count": 15,
   "metadata": {},
   "outputs": [],
   "source": [
    "# def find_branch_variable(sol):\n",
    "#     branch_index = np.argmax([x-int(x) for x in sol])\n",
    "#     branch_value = sol[branch_index]\n",
    "#     return branch_value, branch_index\n",
    "\n",
    "# def find_branch_upper_bound(branch_value):\n",
    "#     return np.floor(branch_value)\n",
    "\n",
    "# def find_branch_lower_bound(branch_value):\n",
    "#     return np.ceil(branch_value)"
   ]
  },
  {
   "cell_type": "code",
   "execution_count": 16,
   "metadata": {},
   "outputs": [],
   "source": [
    "# branch_value, branch_index = find_branch_variable(sol)\n",
    "# branch_upper_bound = find_branch_upper_bound(branch_value)\n",
    "# branch_lower_bound = find_branch_lower_bound(branch_value)\n",
    "# branch_upper_bound,branch_lower_bound"
   ]
  },
  {
   "cell_type": "markdown",
   "metadata": {},
   "source": [
    "## Use the `IntegerSolver` class"
   ]
  },
  {
   "cell_type": "code",
   "execution_count": 17,
   "metadata": {},
   "outputs": [],
   "source": [
    "integer_solver = IntegerSolver()"
   ]
  },
  {
   "cell_type": "code",
   "execution_count": null,
   "metadata": {},
   "outputs": [],
   "source": [
    "integer_solver.solve(problem)"
   ]
  },
  {
   "cell_type": "code",
   "execution_count": 19,
   "metadata": {},
   "outputs": [],
   "source": [
    "integer_solver.draw_graph()"
   ]
  }
 ],
 "metadata": {
  "kernelspec": {
   "display_name": ".venv",
   "language": "python",
   "name": "python3"
  },
  "language_info": {
   "codemirror_mode": {
    "name": "ipython",
    "version": 3
   },
   "file_extension": ".py",
   "mimetype": "text/x-python",
   "name": "python",
   "nbconvert_exporter": "python",
   "pygments_lexer": "ipython3",
   "version": "3.12.7"
  }
 },
 "nbformat": 4,
 "nbformat_minor": 4
}
