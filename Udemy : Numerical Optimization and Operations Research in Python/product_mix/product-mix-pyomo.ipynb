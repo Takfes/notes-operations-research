{
 "cells": [
  {
   "cell_type": "markdown",
   "metadata": {},
   "source": [
    "# Product-mix Pyomo"
   ]
  },
  {
   "cell_type": "markdown",
   "metadata": {},
   "source": [
    "$$\n",
    "\\begin{align}\n",
    "    \\text{max} \\quad & \\sum_{j \\in J} c_j x_j \\\\\n",
    "    \\text{s.t.} \\quad & \\sum_{j \\in J} a_{i, j} x_{j} \\leq b_{i} & \\forall \\; i \\in I \\\\\n",
    "    & x_{j} \\geq 0 & \\forall \\; j \\in J \\\\\n",
    "\\end{align}\n",
    "$$"
   ]
  },
  {
   "cell_type": "code",
   "execution_count": 23,
   "metadata": {},
   "outputs": [],
   "source": [
    "# Python native modules\n",
    "import json\n",
    "\n",
    "# Third-party packages\n",
    "import pyomo.environ as pyo"
   ]
  },
  {
   "cell_type": "code",
   "execution_count": 24,
   "metadata": {},
   "outputs": [],
   "source": [
    "# Read input file and store in local variable `input_data`\n",
    "with open(\"input_prod_mix.json\", mode=\"r\", encoding=\"utf8\") as file:\n",
    "    input_data = json.load(file)"
   ]
  },
  {
   "cell_type": "code",
   "execution_count": 25,
   "metadata": {},
   "outputs": [],
   "source": [
    "availabilities = {b[\"resource\"]: b[\"value\"] for b in input_data[\"availabilities\"]}\n",
    "margins = {c[\"product\"]: c[\"value\"] for c in input_data[\"margins\"]}\n",
    "proportions = {\n",
    "    (p[\"resource\"], p[\"product\"]): p[\"proportion\"]\n",
    "    for p in input_data[\"proportions\"]\n",
    "}"
   ]
  },
  {
   "cell_type": "code",
   "execution_count": 29,
   "metadata": {},
   "outputs": [],
   "source": [
    "# Create model instance\n",
    "model = pyo.ConcreteModel()"
   ]
  },
  {
   "cell_type": "code",
   "execution_count": 30,
   "metadata": {},
   "outputs": [],
   "source": [
    "# Sets for resources I and products J\n",
    "model.I = pyo.Set(initialize=availabilities.keys())\n",
    "model.J = pyo.Set(initialize=margins.keys())"
   ]
  },
  {
   "cell_type": "code",
   "execution_count": 31,
   "metadata": {},
   "outputs": [],
   "source": [
    "# Paramters\n",
    "model.c = pyo.Param(model.J, initialize=margins)\n",
    "model.b = pyo.Param(model.I, initialize=availabilities)\n",
    "model.a = pyo.Param(model.I, model.J, initialize=proportions)"
   ]
  },
  {
   "cell_type": "code",
   "execution_count": 32,
   "metadata": {},
   "outputs": [],
   "source": [
    "# Decision variables\n",
    "model.x = pyo.Var(model.J, within=pyo.NonNegativeReals)"
   ]
  },
  {
   "cell_type": "code",
   "execution_count": 33,
   "metadata": {},
   "outputs": [],
   "source": [
    "# Resource availablity constraints\n",
    "\n",
    "# ! constrainted applied on resources, saying that :\n",
    "# ! for every resource (i),\n",
    "# ! the quantity of that resource used in the production of all (that's why we are summing over j) products\n",
    "# ! should be less than or equal to the availability of that resource (indexed by i -> b[i])\n",
    "\n",
    "def av_cstr(model, i):\n",
    "    return sum(model.a[i,j] * model.x[j] for j in model.J) <= model.b[i]\n",
    "\n",
    "# ! the av_cstr rule `rule=av_cstr` is applied over all resources in the set I `model.I`\n",
    "\n",
    "model.av_cstr = pyo.Constraint(model.I, rule=av_cstr)"
   ]
  },
  {
   "cell_type": "code",
   "execution_count": 34,
   "metadata": {},
   "outputs": [],
   "source": [
    "# Objective function\n",
    "def obj(model):\n",
    "    return sum(model.c[j] * model.x[j] for j in model.J)\n",
    "\n",
    "model.obj = pyo.Objective(rule=obj, sense=pyo.maximize)"
   ]
  },
  {
   "cell_type": "code",
   "execution_count": 35,
   "metadata": {},
   "outputs": [],
   "source": [
    "# Instantiate Highs persistent solver (make sure highspy is installed)\n",
    "solver = pyo.SolverFactory(\"appsi_highs\")"
   ]
  },
  {
   "cell_type": "code",
   "execution_count": 36,
   "metadata": {},
   "outputs": [
    {
     "data": {
      "text/plain": [
       "{'Problem': [{'Lower bound': 258.8526315789474, 'Upper bound': 258.8526315789474, 'Number of objectives': 1, 'Number of constraints': 0, 'Number of variables': 0, 'Sense': 'maximize'}], 'Solver': [{'Status': 'ok', 'Termination condition': 'optimal', 'Termination message': 'TerminationCondition.optimal'}], 'Solution': [OrderedDict({'number of solutions': 0, 'number of solutions displayed': 0})]}"
      ]
     },
     "execution_count": 36,
     "metadata": {},
     "output_type": "execute_result"
    }
   ],
   "source": [
    "# Apply method solve\n",
    "solver.solve(model)"
   ]
  },
  {
   "cell_type": "code",
   "execution_count": 37,
   "metadata": {},
   "outputs": [
    {
     "data": {
      "text/plain": [
       "258.8526315789474"
      ]
     },
     "execution_count": 37,
     "metadata": {},
     "output_type": "execute_result"
    }
   ],
   "source": [
    "# Use objective as a callable to see its value\n",
    "model.obj()"
   ]
  },
  {
   "cell_type": "code",
   "execution_count": 38,
   "metadata": {},
   "outputs": [
    {
     "name": "stdout",
     "output_type": "stream",
     "text": [
      "71.05 units of Product P1\n",
      "10.26 units of Product P2\n",
      "53.68 units of Product P3\n"
     ]
    }
   ],
   "source": [
    "# Print results\n",
    "for j, xi in model.x.extract_values().items():\n",
    "    print(f\"{xi:.2f} units of Product {j}\")"
   ]
  },
  {
   "cell_type": "code",
   "execution_count": 67,
   "metadata": {},
   "outputs": [
    {
     "name": "stdout",
     "output_type": "stream",
     "text": [
      "variable x[P1] with value : 0 <= 71.05 <= None\n",
      "variable x[P2] with value : 0 <= 10.26 <= None\n",
      "variable x[P3] with value : 0 <= 53.68 <= None\n"
     ]
    }
   ],
   "source": [
    "for x in model.x.values():\n",
    "    print(f'variable {x.name} with value : {x.lb} <= {x.value:.2f} <= {x.ub}')\n",
    "    # print(x.value)\n",
    "    # print(x.name)  # print(x.getname())\n",
    "    # print(x.lb)    # print(x.lower)\n",
    "    # print(x.ub)    # print(x.upper)"
   ]
  }
 ],
 "metadata": {
  "kernelspec": {
   "display_name": ".venv",
   "language": "python",
   "name": "python3"
  },
  "language_info": {
   "codemirror_mode": {
    "name": "ipython",
    "version": 3
   },
   "file_extension": ".py",
   "mimetype": "text/x-python",
   "name": "python",
   "nbconvert_exporter": "python",
   "pygments_lexer": "ipython3",
   "version": "3.12.7"
  }
 },
 "nbformat": 4,
 "nbformat_minor": 2
}
