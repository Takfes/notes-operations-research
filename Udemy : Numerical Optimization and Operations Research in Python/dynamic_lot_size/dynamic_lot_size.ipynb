{
 "cells": [
  {
   "attachments": {},
   "cell_type": "markdown",
   "metadata": {},
   "source": [
    "# Dynamic lot-size model"
   ]
  },
  {
   "cell_type": "code",
   "execution_count": 1,
   "metadata": {},
   "outputs": [],
   "source": [
    "import numpy as np\n",
    "import pandas as pd\n",
    "import pyomo.environ as pyo\n",
    "import matplotlib.pyplot as plt"
   ]
  },
  {
   "attachments": {},
   "cell_type": "markdown",
   "metadata": {},
   "source": [
    "## Formulation"
   ]
  },
  {
   "attachments": {},
   "cell_type": "markdown",
   "metadata": {},
   "source": [
    "$$\n",
    "\\begin{align}\n",
    "    \\text{min}~~ & \\sum_{t \\in T}{(h_{t} I_{t} + s_{t} y_{t})} \\\\\n",
    "    \\text{s.t.}~~ & I_{t} = I_{t - 1} + x_{t} - d_{t} & \\forall ~ t \\in T; t \\geq 2\\\\\n",
    "    & I_{1} = I_{0} + x_{1} - d_{1}\\\\\n",
    "    & x_{t} \\leq M y_{t} & \\forall ~ t \\in T \\\\\n",
    "    & x_{t}; I_{t} \\geq 0 & \\forall ~ t \\in T \\\\\n",
    "    & y_{t} \\in \\left \\{ 0, 1 \\right \\} & \\forall ~ t \\in T\\\\\n",
    "\\end{align}\n",
    "$$"
   ]
  },
  {
   "attachments": {},
   "cell_type": "markdown",
   "metadata": {},
   "source": [
    "## Import data"
   ]
  },
  {
   "cell_type": "code",
   "execution_count": 2,
   "metadata": {},
   "outputs": [
    {
     "data": {
      "text/html": [
       "<div>\n",
       "<style scoped>\n",
       "    .dataframe tbody tr th:only-of-type {\n",
       "        vertical-align: middle;\n",
       "    }\n",
       "\n",
       "    .dataframe tbody tr th {\n",
       "        vertical-align: top;\n",
       "    }\n",
       "\n",
       "    .dataframe thead th {\n",
       "        text-align: right;\n",
       "    }\n",
       "</style>\n",
       "<table border=\"1\" class=\"dataframe\">\n",
       "  <thead>\n",
       "    <tr style=\"text-align: right;\">\n",
       "      <th></th>\n",
       "      <th>setup_cost</th>\n",
       "      <th>inventory_cost</th>\n",
       "      <th>demand</th>\n",
       "    </tr>\n",
       "    <tr>\n",
       "      <th>t</th>\n",
       "      <th></th>\n",
       "      <th></th>\n",
       "      <th></th>\n",
       "    </tr>\n",
       "  </thead>\n",
       "  <tbody>\n",
       "    <tr>\n",
       "      <th>1</th>\n",
       "      <td>85</td>\n",
       "      <td>1.0</td>\n",
       "      <td>69</td>\n",
       "    </tr>\n",
       "    <tr>\n",
       "      <th>2</th>\n",
       "      <td>102</td>\n",
       "      <td>1.0</td>\n",
       "      <td>29</td>\n",
       "    </tr>\n",
       "    <tr>\n",
       "      <th>3</th>\n",
       "      <td>102</td>\n",
       "      <td>1.0</td>\n",
       "      <td>36</td>\n",
       "    </tr>\n",
       "    <tr>\n",
       "      <th>4</th>\n",
       "      <td>101</td>\n",
       "      <td>1.0</td>\n",
       "      <td>61</td>\n",
       "    </tr>\n",
       "    <tr>\n",
       "      <th>5</th>\n",
       "      <td>98</td>\n",
       "      <td>1.0</td>\n",
       "      <td>61</td>\n",
       "    </tr>\n",
       "  </tbody>\n",
       "</table>\n",
       "</div>"
      ],
      "text/plain": [
       "   setup_cost  inventory_cost  demand\n",
       "t                                    \n",
       "1          85             1.0      69\n",
       "2         102             1.0      29\n",
       "3         102             1.0      36\n",
       "4         101             1.0      61\n",
       "5          98             1.0      61"
      ]
     },
     "execution_count": 2,
     "metadata": {},
     "output_type": "execute_result"
    }
   ],
   "source": [
    "# Read input data\n",
    "dataset = pd.read_csv(\"./input_wagner.csv\", index_col=0)\n",
    "dataset.head()"
   ]
  },
  {
   "cell_type": "code",
   "execution_count": 3,
   "metadata": {},
   "outputs": [
    {
     "name": "stdout",
     "output_type": "stream",
     "text": [
      "Maximum cost: 1234.0\n"
     ]
    }
   ],
   "source": [
    "# Obtain the maximum cost for comparison\n",
    "max_cost = dataset.setup_cost.sum()\n",
    "print(f\"Maximum cost: {max_cost:.1f}\")"
   ]
  },
  {
   "attachments": {},
   "cell_type": "markdown",
   "metadata": {},
   "source": [
    "## pyomo model"
   ]
  },
  {
   "cell_type": "code",
   "execution_count": 37,
   "metadata": {},
   "outputs": [],
   "source": [
    "# Initialize ConcreteModel\n",
    "model = pyo.ConcreteModel()"
   ]
  },
  {
   "cell_type": "code",
   "execution_count": 38,
   "metadata": {},
   "outputs": [],
   "source": [
    "# Set: Planning horizon\n",
    "model.T = pyo.Set(initialize=dataset.index)"
   ]
  },
  {
   "cell_type": "code",
   "execution_count": 39,
   "metadata": {},
   "outputs": [],
   "source": [
    "# Parameters\n",
    "model.d = pyo.Param(model.T, initialize=dataset.demand.to_dict())\n",
    "model.s = pyo.Param(model.T, initialize=dataset.setup_cost.to_dict())\n",
    "model.h = pyo.Param(model.T, initialize=dataset.inventory_cost.to_dict())\n",
    "\n",
    "# Big M (can we do better?)\n",
    "model.M = pyo.Param(initialize=1_000)"
   ]
  },
  {
   "cell_type": "code",
   "execution_count": 40,
   "metadata": {},
   "outputs": [],
   "source": [
    "# Decision variables\n",
    "model.x = pyo.Var(model.T, within=pyo.NonNegativeReals)\n",
    "model.y = pyo.Var(model.T, within=pyo.Binary)\n",
    "model.I = pyo.Var(model.T, within=pyo.NonNegativeReals)"
   ]
  },
  {
   "cell_type": "code",
   "execution_count": 41,
   "metadata": {},
   "outputs": [],
   "source": [
    "# Inventory balance *special in the first instant\n",
    "def inventory_rule(model, t):\n",
    "    if t == model.T.first():\n",
    "        return model.I[t] == model.x[t] - model.d[t]\n",
    "    else:\n",
    "        t_prev = model.T.prev(t)\n",
    "        return model.I[t] == model.I[t_prev] + model.x[t] - model.d[t]\n",
    "\n",
    "\n",
    "model.inventory_rule = pyo.Constraint(model.T, rule=inventory_rule)"
   ]
  },
  {
   "cell_type": "code",
   "execution_count": 42,
   "metadata": {},
   "outputs": [],
   "source": [
    "# Indicator constraint activates y in case x is greater than zero\n",
    "def active_prod(model, t):\n",
    "    return model.x[t] <= model.M * model.y[t]\n",
    "\n",
    "\n",
    "model.active_prod = pyo.Constraint(model.T, rule=active_prod)"
   ]
  },
  {
   "cell_type": "code",
   "execution_count": 43,
   "metadata": {},
   "outputs": [],
   "source": [
    "# Define the objective\n",
    "def total_holding(model):\n",
    "    return sum(model.h[t] * model.I[t] for t in model.T)\n",
    "\n",
    "\n",
    "def total_setup(model):\n",
    "    return sum(model.s[t] * model.y[t] for t in model.T)\n",
    "\n",
    "\n",
    "def total_cost(model):\n",
    "    return total_holding(model) + total_setup(model)\n",
    "\n",
    "\n",
    "model.obj = pyo.Objective(rule=total_cost, sense=pyo.minimize)"
   ]
  },
  {
   "attachments": {},
   "cell_type": "markdown",
   "metadata": {},
   "source": [
    "## Solution"
   ]
  },
  {
   "cell_type": "code",
   "execution_count": 44,
   "metadata": {},
   "outputs": [],
   "source": [
    "solver = pyo.SolverFactory(\"appsi_highs\")"
   ]
  },
  {
   "cell_type": "code",
   "execution_count": 45,
   "metadata": {},
   "outputs": [
    {
     "name": "stdout",
     "output_type": "stream",
     "text": [
      "Running HiGHS 1.9.0 (git hash: fa40bdf): Copyright (c) 2024 HiGHS under MIT licence terms\n",
      "Coefficient ranges:\n",
      "  Matrix [1e+00, 1e+03]\n",
      "  Cost   [1e+00, 1e+02]\n",
      "  Bound  [1e+00, 1e+00]\n",
      "  RHS    [3e+01, 8e+01]\n",
      "Presolving model\n",
      "23 rows, 34 cols, 56 nonzeros  0s\n",
      "22 rows, 34 cols, 55 nonzeros  0s\n",
      "\n",
      "Solving MIP model with:\n",
      "   22 rows\n",
      "   34 cols (11 binary, 0 integer, 0 implied int., 23 continuous)\n",
      "   55 nonzeros\n",
      "\n",
      "Src: B => Branching; C => Central rounding; F => Feasibility pump; H => Heuristic; L => Sub-MIP;\n",
      "     P => Empty MIP; R => Randomized rounding; S => Solve LP; T => Evaluate node; U => Unbounded;\n",
      "     z => Trivial zero; l => Trivial lower; u => Trivial upper; p => Trivial point\n",
      "\n",
      "        Nodes      |    B&B Tree     |            Objective Bounds              |  Dynamic Constraints |       Work      \n",
      "Src  Proc. InQueue |  Leaves   Expl. | BestBound       BestSol              Gap |   Cuts   InLp Confl. | LpIters     Time\n",
      "\n",
      "         0       0         0   0.00%   85              inf                  inf        0      0      0         0     0.0s\n",
      " S       0       0         0   0.00%   85              1234              93.11%        0      0      0         0     0.0s\n",
      "         0       0         0   0.00%   142.916         1234              88.42%        0      0      0        11     0.0s\n",
      " S       0       0         0   0.00%   673.7598533     1110.701324       39.34%       45     16      0        22     0.0s\n",
      " L       0       0         0   0.00%   864             864                0.00%       65     22      2        34     0.0s\n",
      "         1       0         1 100.00%   864             864                0.00%       65     22      2        38     0.0s\n",
      "\n",
      "Solving report\n",
      "  Status            Optimal\n",
      "  Primal bound      864\n",
      "  Dual bound        864\n",
      "  Gap               0% (tolerance: 0.01%)\n",
      "  P-D integral      0.00222285458607\n",
      "  Solution status   feasible\n",
      "                    864 (objective)\n",
      "                    0 (bound viol.)\n",
      "                    0 (int. viol.)\n",
      "                    0 (row viol.)\n",
      "  Timing            0.01 (total)\n",
      "                    0.00 (presolve)\n",
      "                    0.00 (solve)\n",
      "                    0.00 (postsolve)\n",
      "  Max sub-MIP depth 1\n",
      "  Nodes             1\n",
      "  Repair LPs        0 (0 feasible; 0 iterations)\n",
      "  LP iterations     38 (total)\n",
      "                    0 (strong br.)\n",
      "                    23 (separation)\n",
      "                    4 (heuristics)\n"
     ]
    },
    {
     "data": {
      "text/plain": [
       "{'Problem': [{'Lower bound': 864.0, 'Upper bound': 864.0, 'Number of objectives': 1, 'Number of constraints': 0, 'Number of variables': 0, 'Sense': 'minimize'}], 'Solver': [{'Status': 'ok', 'Termination condition': 'optimal', 'Termination message': 'TerminationCondition.optimal'}], 'Solution': [OrderedDict({'number of solutions': 0, 'number of solutions displayed': 0})]}"
      ]
     },
     "execution_count": 45,
     "metadata": {},
     "output_type": "execute_result"
    }
   ],
   "source": [
    "solver.solve(model, tee=True)"
   ]
  },
  {
   "cell_type": "code",
   "execution_count": 46,
   "metadata": {},
   "outputs": [
    {
     "name": "stdout",
     "output_type": "stream",
     "text": [
      "Best cost 864.0\n",
      "% savings 29.98\n"
     ]
    }
   ],
   "source": [
    "opt_value = model.obj()\n",
    "print(f\"Best cost {opt_value}\")\n",
    "print(f\"% savings {100 * (1 - opt_value / max_cost) :.2f}\")"
   ]
  },
  {
   "cell_type": "code",
   "execution_count": 35,
   "metadata": {},
   "outputs": [],
   "source": [
    "dataset[\"production\"] = [model.x[t].value for t in dataset.index]\n",
    "dataset[\"inventory\"] = [model.I[t].value for t in dataset.index]"
   ]
  },
  {
   "cell_type": "code",
   "execution_count": 36,
   "metadata": {},
   "outputs": [
    {
     "data": {
      "image/png": "[encoded data removed]",
      "text/plain": [
       "<Figure size 600x300 with 1 Axes>"
      ]
     },
     "metadata": {},
     "output_type": "display_data"
    }
   ],
   "source": [
    "fig, ax = plt.subplots(figsize=[6, 3], dpi=100)\n",
    "x = dataset.index\n",
    "width = 0.35\n",
    "ax.bar(x - width/2, dataset.production, width, color=\"darkgreen\", label=\"production\")\n",
    "ax.bar(x + width/2, dataset.demand, width, color=\"navy\", label=\"demand\")\n",
    "ax.set_xticks(x)\n",
    "ax.set_ylabel(\"Qtd\")\n",
    "ax.set_xlabel(\"t\")\n",
    "ax.legend()\n",
    "fig.tight_layout()\n",
    "plt.show()"
   ]
  }
 ],
 "metadata": {
  "kernelspec": {
   "display_name": ".venv",
   "language": "python",
   "name": "python3"
  },
  "language_info": {
   "codemirror_mode": {
    "name": "ipython",
    "version": 3
   },
   "file_extension": ".py",
   "mimetype": "text/x-python",
   "name": "python",
   "nbconvert_exporter": "python",
   "pygments_lexer": "ipython3",
   "version": "3.12.7"
  },
  "orig_nbformat": 4
 },
 "nbformat": 4,
 "nbformat_minor": 2
}
