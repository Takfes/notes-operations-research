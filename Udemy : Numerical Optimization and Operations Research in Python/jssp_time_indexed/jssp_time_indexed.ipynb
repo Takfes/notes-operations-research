{
 "cells": [
  {
   "cell_type": "markdown",
   "metadata": {},
   "source": [
    "# Time-indexed Job-Shop"
   ]
  },
  {
   "cell_type": "markdown",
   "metadata": {},
   "source": [
    "$$\n",
    "\\begin{align}\n",
    "    \\text{min} \\quad & C \\\\\n",
    "    \\text{s.t.} \\quad & \\sum_{t \\in T}{y_{m, j, t}} = 1\n",
    "        & \\forall ~ j \\in J; m \\in M \\\\\n",
    "    & \\sum_{j \\in J} x_{m, j, t} \\leq 1\n",
    "        & \\forall ~ m \\in M; t \\in T \\\\\n",
    "    & \\sum_{t \\in T}{(t + p_{\\sigma_{h - 1}^j, j}) y_{\\sigma_{h - 1}^j, j, t}} \\leq\n",
    "    \\sum_{t \\in T}{t y_{\\sigma_{h}^j, j, t}}\n",
    "        & \\forall ~ j \\in J; h \\in (1, 2, ..., |M|) \\\\\n",
    "    & y_{m, j, t} \\leq x_{m, j, t}\n",
    "        & \\forall ~ m \\in M; j \\in J; t \\in T \\\\\n",
    "    & y_{m, j, t} \\leq 1 - x_{m, j, t - 1}\n",
    "        & \\forall ~ m \\in M; j \\in J; t \\in T \\setminus \\{0\\} \\\\\n",
    "    & x_{m, j, t} - x_{m, j, t - 1} \\leq y_{m, j, t}\n",
    "        & \\forall ~ m \\in M; j \\in J; t \\in T \\setminus \\{0\\} \\\\\n",
    "    & t x_{m, j, t} \\leq C\n",
    "        & \\forall ~ m \\in M; j \\in J; t \\in T \\\\\n",
    "\n",
    "    & y_{m, j, t}, x_{m, j, t} \\in \\{0, 1\\} & \\forall ~ j; m \\in M; t \\in T\\\\\n",
    "\\end{align}\n",
    "$$"
   ]
  },
  {
   "cell_type": "code",
   "execution_count": 1,
   "metadata": {},
   "outputs": [],
   "source": [
    "import json\n",
    "import os\n",
    "\n",
    "import numpy as np\n",
    "import pyomo.environ as pyo\n",
    "import matplotlib.pyplot as plt\n",
    "import matplotlib as mpl"
   ]
  },
  {
   "cell_type": "code",
   "execution_count": 2,
   "metadata": {},
   "outputs": [],
   "source": [
    "with open(os.path.join(\"data\", \"random_3_4.json\"), mode=\"r\") as file:\n",
    "    data = json.load(file)"
   ]
  },
  {
   "cell_type": "code",
   "execution_count": 3,
   "metadata": {},
   "outputs": [],
   "source": [
    "machines = sorted(data[\"technology\"][0])\n",
    "jobs = list(range(len(data[\"technology\"])))\n",
    "processing = {\n",
    "    (record[\"machine\"], record[\"job\"]): record[\"time\"]\n",
    "    for record in data[\"processing\"]\n",
    "}\n",
    "sequences = [\n",
    "    (m1, row[h + 1], j)\n",
    "    for j, row in enumerate(data[\"technology\"])\n",
    "    for h, m1 in enumerate(row[:-1])\n",
    "]"
   ]
  },
  {
   "cell_type": "code",
   "execution_count": 4,
   "metadata": {},
   "outputs": [
    {
     "name": "stdout",
     "output_type": "stream",
     "text": [
      "machines: [0, 1, 2]\n",
      "jobs: [0, 1, 2, 3]\n",
      "processing: {(0, 0): 9, (0, 1): 10, (0, 2): 18, (0, 3): 14, (1, 0): 7, (1, 1): 16, (1, 2): 11, (1, 3): 15, (2, 0): 5, (2, 1): 10, (2, 2): 13, (2, 3): 17}\n",
      "sequences: [(0, 1, 0), (1, 2, 0), (2, 0, 1), (0, 1, 1), (1, 2, 2), (2, 0, 2), (0, 1, 3), (1, 2, 3)]\n"
     ]
    }
   ],
   "source": [
    "print(\"machines:\", machines)\n",
    "print(\"jobs:\", jobs)\n",
    "print(\"processing:\", processing)\n",
    "print(\"sequences:\", sequences)"
   ]
  },
  {
   "cell_type": "code",
   "execution_count": 10,
   "metadata": {},
   "outputs": [
    {
     "data": {
      "text/plain": [
       "{'technology': [[0, 1, 2], [2, 0, 1], [1, 2, 0], [0, 1, 2]],\n",
       " 'processing': [{'machine': 0, 'job': 0, 'time': 9},\n",
       "  {'machine': 0, 'job': 1, 'time': 10},\n",
       "  {'machine': 0, 'job': 2, 'time': 18},\n",
       "  {'machine': 0, 'job': 3, 'time': 14},\n",
       "  {'machine': 1, 'job': 0, 'time': 7},\n",
       "  {'machine': 1, 'job': 1, 'time': 16},\n",
       "  {'machine': 1, 'job': 2, 'time': 11},\n",
       "  {'machine': 1, 'job': 3, 'time': 15},\n",
       "  {'machine': 2, 'job': 0, 'time': 5},\n",
       "  {'machine': 2, 'job': 1, 'time': 10},\n",
       "  {'machine': 2, 'job': 2, 'time': 13},\n",
       "  {'machine': 2, 'job': 3, 'time': 17}]}"
      ]
     },
     "execution_count": 10,
     "metadata": {},
     "output_type": "execute_result"
    }
   ],
   "source": [
    "data"
   ]
  },
  {
   "cell_type": "markdown",
   "metadata": {},
   "source": [
    "## pyomo"
   ]
  },
  {
   "cell_type": "code",
   "execution_count": 11,
   "metadata": {},
   "outputs": [],
   "source": [
    "model = pyo.ConcreteModel()"
   ]
  },
  {
   "cell_type": "code",
   "execution_count": 12,
   "metadata": {},
   "outputs": [],
   "source": [
    "# Sets for machines, jobs, horizon, and job sequences\n",
    "model.M = pyo.Set(initialize=machines)\n",
    "model.J = pyo.Set(initialize=jobs)\n",
    "model.T = pyo.Set(initialize=range(sum(p for p in processing.values())))\n",
    "model.Sigma = pyo.Set(initialize=sequences)"
   ]
  },
  {
   "cell_type": "code",
   "execution_count": 13,
   "metadata": {},
   "outputs": [],
   "source": [
    "# Parameters\n",
    "model.p = pyo.Param(model.M, model.J, initialize=processing)"
   ]
  },
  {
   "cell_type": "code",
   "execution_count": 14,
   "metadata": {},
   "outputs": [],
   "source": [
    "# Variables\n",
    "model.x = pyo.Var(model.M, model.J, model.T, within=pyo.NonNegativeReals, bounds=(0, 1))\n",
    "model.y = pyo.Var(model.M, model.J, model.T, within=pyo.Binary)\n",
    "model.C = pyo.Var(within= pyo.NonNegativeReals)"
   ]
  },
  {
   "cell_type": "code",
   "execution_count": 15,
   "metadata": {},
   "outputs": [],
   "source": [
    "# Constraints\n",
    "def cstr_unique_start(model, m, j):\n",
    "    return sum(model.y[m, j, :]) == 1\n",
    "\n",
    "\n",
    "def cstr_unique_machine(model, m, t):\n",
    "    return sum(model.x[m, :, t]) <= 1\n",
    "\n",
    "\n",
    "def cstr_tech_order(model, m1, m2, j):\n",
    "    lhs = sum(\n",
    "        ( model.p[m1, j] + t ) * model.y[m1, j, t]\n",
    "        for t in model.T\n",
    "        )\n",
    "    rhs = sum(\n",
    "        t * model.y[m2, j, t]\n",
    "        for t in model.T\n",
    "    )\n",
    "    return lhs <= rhs\n",
    "\n",
    "\n",
    "def cstr_duration(model, m, j, t):\n",
    "    if t <= model.T.last() - model.p[m, j]:\n",
    "        lhs = model.p[m, j] * model.y[m, j, t]\n",
    "        rhs = sum(model.x[m, j, t2] for t2 in range(t, t + model.p[m, j]))\n",
    "        return lhs <= rhs\n",
    "    else:\n",
    "        return model.y[m, j, t] == 0\n",
    "\n",
    "\n",
    "def cstr_duration_comp(model, m , j):\n",
    "    return sum(model.x[m, j, :]) == model.p[m, j]\n",
    "\n",
    "\n",
    "def cstr_start_c1(model, m, j , t):\n",
    "    return model.y[m, j , t] <= model.x[m, j, t]\n",
    "\n",
    "\n",
    "def cstr_start_c2(model, m, j , t):\n",
    "    if t != model.T.first():\n",
    "        t_prev = model.T.prev(t)\n",
    "        return model.y[m, j , t] <= 1 - model.x[m, j, t_prev]\n",
    "    else:\n",
    "        return pyo.Constraint.Skip\n",
    "\n",
    "\n",
    "def cstr_start_c3(model, m, j, t):\n",
    "    if t != model.T.first():\n",
    "        t_prev = model.T.prev(t)\n",
    "        return model.x[m, j, t] -model.x[m, j, t_prev] <= model.y[m, j, t]\n",
    "    else:\n",
    "        return pyo.Constraint.Skip\n",
    "\n",
    "\n",
    "def cstr_total_time(model, m, j, t):\n",
    "    return model.x[m, j, t] * t <= model.C"
   ]
  },
  {
   "cell_type": "code",
   "execution_count": 16,
   "metadata": {},
   "outputs": [],
   "source": [
    "model.cstr_unique_start = pyo.Constraint(model.M, model.J, rule=cstr_unique_start)\n",
    "model.cstr_unique_machine = pyo.Constraint(model.M, model.T, rule=cstr_unique_machine)\n",
    "model.cstr_tech_order = pyo.Constraint(model.Sigma, rule=cstr_tech_order)\n",
    "model.cstr_duration = pyo.Constraint(model.M, model.J, model.T, rule=cstr_duration)\n",
    "model.cstr_duration_comp = pyo.Constraint(model.M, model.J, rule=cstr_duration_comp)\n",
    "model.cstr_start_c1 = pyo.Constraint(model.M, model.J, model.T, rule=cstr_start_c1)\n",
    "model.cstr_start_c2 = pyo.Constraint(model.M, model.J, model.T, rule=cstr_start_c2)\n",
    "model.cstr_start_c3 = pyo.Constraint(model.M, model.J, model.T, rule=cstr_start_c3)\n",
    "model.cstr_total_time = pyo.Constraint(model.M, model.J, model.T, rule=cstr_total_time)"
   ]
  },
  {
   "cell_type": "code",
   "execution_count": 17,
   "metadata": {},
   "outputs": [],
   "source": [
    "# Objective\n",
    "model.obj = pyo.Objective(expr=model.C + 1, sense=pyo.minimize)"
   ]
  },
  {
   "cell_type": "markdown",
   "metadata": {},
   "source": [
    "## Solve"
   ]
  },
  {
   "cell_type": "code",
   "execution_count": 18,
   "metadata": {},
   "outputs": [
    {
     "name": "stdout",
     "output_type": "stream",
     "text": [
      "Running HiGHS 1.9.0 (git hash: fa40bdf): Copyright (c) 2024 HiGHS under MIT licence terms\n",
      "Coefficient ranges:\n",
      "  Matrix [1e+00, 2e+02]\n",
      "  Cost   [1e+00, 1e+00]\n",
      "  Bound  [1e+00, 1e+00]\n",
      "  RHS    [1e+00, 2e+01]\n",
      "Presolving model\n",
      "8696 rows, 3336 cols, 42733 nonzeros  0s\n",
      "7834 rows, 3046 cols, 36647 nonzeros  1s\n",
      "\n",
      "Solving MIP model with:\n",
      "   7834 rows\n",
      "   3046 cols (1305 binary, 0 integer, 0 implied int., 1741 continuous)\n",
      "   36647 nonzeros\n",
      "\n",
      "Src: B => Branching; C => Central rounding; F => Feasibility pump; H => Heuristic; L => Sub-MIP;\n",
      "     P => Empty MIP; R => Randomized rounding; S => Solve LP; T => Evaluate node; U => Unbounded;\n",
      "     z => Trivial zero; l => Trivial lower; u => Trivial upper; p => Trivial point\n",
      "\n",
      "        Nodes      |    B&B Tree     |            Objective Bounds              |  Dynamic Constraints |       Work      \n",
      "Src  Proc. InQueue |  Leaves   Expl. | BestBound       BestSol              Gap |   Cuts   InLp Confl. | LpIters     Time\n",
      "\n",
      "         0       0         0   0.00%   1               inf                  inf        0      0      0         0     1.2s\n",
      "         0       0         0   0.00%   5.059816955     inf                  inf        0      0     12      5215     1.8s\n",
      " R       0       0         0   0.00%   5.059816955     143               96.46%     1191     53     12      5540     2.0s\n",
      "         0       0         0   0.00%   10.67610931     143               92.53%    12334   4017     14     19427     7.2s\n",
      "         0       0         0   0.00%   18.63168139     143               86.97%    13107   2871     14     32685    12.5s\n",
      "         0       0         0   0.00%   23.49937619     143               83.57%    12821   1330     14     44548    17.7s\n",
      " L       0       0         0   0.00%   25.34170738     64                60.40%    11021   1417     14     50014    25.8s\n",
      "\n",
      "5.7% inactive integer columns, restarting\n",
      "Model after restart has 7309 rows, 2967 cols (1226 bin., 0 int., 0 impl., 1741 cont.), and 34241 nonzeros\n",
      "\n",
      "         0       0         0   0.00%   25.67372909     64                59.88%      301      0      0     65500    26.7s\n",
      "         0       0         0   0.00%   26.07581352     64                59.26%      301    192      4     69528    27.1s\n",
      " L       0       0         0   0.00%   29.07200986     56                48.09%     1262    356      4     73106    29.4s\n",
      "\n",
      "10.2% inactive integer columns, restarting\n",
      "Model after restart has 6514 rows, 2714 cols (973 bin., 0 int., 0 impl., 1741 cont.), and 28381 nonzeros\n",
      "\n",
      "         0       0         0   0.00%   29.07200986     56                48.09%       90      0      0     81470    29.8s\n",
      "         0       0         0   0.00%   29.12136301     56                48.00%       90     55      1     83043    30.0s\n",
      "\n",
      "10.4% inactive integer columns, restarting\n",
      "Model after restart has 3874 rows, 1849 cols (108 bin., 0 int., 0 impl., 1741 cont.), and 11725 nonzeros\n",
      "\n",
      "         0       0         0   0.00%   33.21680534     56                40.68%       54      0      0     86187    30.8s\n",
      "         0       0         0   0.00%   33.27435391     56                40.58%       54     34      0     86956    30.9s\n",
      "\n",
      "5.6% inactive integer columns, restarting\n",
      "Model after restart has 3616 rows, 1843 cols (102 bin., 0 int., 0 impl., 1741 cont.), and 11135 nonzeros\n",
      "\n",
      "         0       0         0   0.00%   52              56                 7.14%       55      0      0     93493    32.4s\n",
      " R       0       0         0   0.00%   52              55                 5.45%       55     27      0     94657    32.5s\n",
      "\n",
      "7.8% inactive integer columns, restarting\n",
      "Model after restart has 3589 rows, 1834 cols (93 bin., 0 int., 0 impl., 1741 cont.), and 10957 nonzeros\n",
      "\n",
      "         0       0         0   0.00%   52              55                 5.45%       32      0      0     95314    32.6s\n",
      "         0       0         0   0.00%   52              55                 5.45%       32     29      2     96489    32.7s\n",
      " T       0       0         0 100.00%   52              52                 0.00%      989     27      2     97739    32.9s\n",
      "         1       0         1 100.00%   52              52                 0.00%      989     27      2     97739    32.9s\n",
      "\n",
      "Solving report\n",
      "  Status            Optimal\n",
      "  Primal bound      52\n",
      "  Dual bound        52\n",
      "  Gap               0% (tolerance: 0.01%)\n",
      "  P-D integral      23.8848462993\n",
      "  Solution status   feasible\n",
      "                    52 (objective)\n",
      "                    0 (bound viol.)\n",
      "                    7.71605002114e-14 (int. viol.)\n",
      "                    0 (row viol.)\n",
      "  Timing            32.92 (total)\n",
      "                    0.00 (presolve)\n",
      "                    0.00 (solve)\n",
      "                    0.00 (postsolve)\n",
      "  Max sub-MIP depth 2\n",
      "  Nodes             1\n",
      "  Repair LPs        0 (0 feasible; 0 iterations)\n",
      "  LP iterations     97739 (total)\n",
      "                    0 (strong br.)\n",
      "                    60442 (separation)\n",
      "                    22858 (heuristics)\n"
     ]
    },
    {
     "data": {
      "text/plain": [
       "{'Problem': [{'Lower bound': 52.00000000000001, 'Upper bound': 52.00000000000001, 'Number of objectives': 1, 'Number of constraints': 0, 'Number of variables': 0, 'Sense': 'minimize'}], 'Solver': [{'Status': 'ok', 'Termination condition': 'optimal', 'Termination message': 'TerminationCondition.optimal'}], 'Solution': [OrderedDict({'number of solutions': 0, 'number of solutions displayed': 0})]}"
      ]
     },
     "execution_count": 18,
     "metadata": {},
     "output_type": "execute_result"
    }
   ],
   "source": [
    "solver = pyo.SolverFactory(\"appsi_highs\")\n",
    "solver.options[\"mip_heuristic_effort\"] = 0.1\n",
    "solver.options[\"time_limit\"] = 120\n",
    "solver.options[\"log_file\"] = \"Highs.log\"\n",
    "solver.solve(model, tee=True)"
   ]
  },
  {
   "cell_type": "code",
   "execution_count": 19,
   "metadata": {},
   "outputs": [],
   "source": [
    "def get_plot_elements(model, j):\n",
    "    machines = [y.index()[0] for y in model.y[:, j, :] if np.isclose(y.value, 1, atol=1e-1)]\n",
    "    starts = [y.index()[2] for y in model.y[:, j, :] if np.isclose(y.value, 1, atol=1e-1)]\n",
    "    spans = [model.p[m, j] for m in machines]\n",
    "    return machines, starts, spans\n",
    "\n",
    "\n",
    "def plot_horizontal(model, figsize=[7, 3], dpi=100, colors=None):\n",
    "\n",
    "    if colors is None:\n",
    "         colors = mpl.colormaps[\"Dark2\"].colors\n",
    "\n",
    "    fig, ax = plt.subplots(figsize=figsize, dpi=dpi)\n",
    "\n",
    "    for i, j in enumerate(model.J):\n",
    "        machines, starts, spans = get_plot_elements(model, j)\n",
    "\n",
    "        if i >= len(colors):\n",
    "            i = i % len(colors)\n",
    "\n",
    "        color = colors[i]\n",
    "        ax.barh(machines, spans, left=starts, label=f\"Job {j}\", color=color)\n",
    "\n",
    "    ax.set_yticks(model.M)\n",
    "    ax.set_xlabel(\"Time\")\n",
    "    ax.set_ylabel(\"Machine\")\n",
    "    ax.legend(loc='upper left', bbox_to_anchor=(1, 1.03))\n",
    "    fig.tight_layout()\n",
    "    plt.show()"
   ]
  },
  {
   "cell_type": "code",
   "execution_count": 20,
   "metadata": {},
   "outputs": [
    {
     "data": {
      "image/png": "[encoded data removed]",
      "text/plain": [
       "<Figure size 700x300 with 1 Axes>"
      ]
     },
     "metadata": {},
     "output_type": "display_data"
    }
   ],
   "source": [
    "plot_horizontal(model)"
   ]
  }
 ],
 "metadata": {
  "kernelspec": {
   "display_name": ".venv",
   "language": "python",
   "name": "python3"
  },
  "language_info": {
   "codemirror_mode": {
    "name": "ipython",
    "version": 3
   },
   "file_extension": ".py",
   "mimetype": "text/x-python",
   "name": "python",
   "nbconvert_exporter": "python",
   "pygments_lexer": "ipython3",
   "version": "3.12.7"
  }
 },
 "nbformat": 4,
 "nbformat_minor": 2
}
